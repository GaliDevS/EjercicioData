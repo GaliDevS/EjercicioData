{
  "cells": [
    {
      "cell_type": "markdown",
      "metadata": {
        "id": "9c5e64dc-2bc7-4640-9b71-877eda7b6100"
      },
      "source": [
        "<center>\n",
        "    <img src=\"https://cf-courses-data.s3.us.cloud-object-storage.appdomain.cloud/IBMDeveloperSkillsNetwork-DS0105EN-SkillsNetwork/labs/Module2/images/SN_web_lightmode.png\" width=\"300\" alt=\"cognitiveclass.ai logo\">\n",
        "</center>\n"
      ]
    },
    {
      "cell_type": "markdown",
      "metadata": {
        "id": "bca0d27a-24c6-4c43-b116-c73c8d9ab219"
      },
      "source": [
        "# Hands-on Lab: Create your Jupyter Notebook\n"
      ]
    },
    {
      "cell_type": "markdown",
      "metadata": {
        "id": "8b126e2f-912e-42e0-8d57-43862ac465fc"
      },
      "source": [
        "#### Add your code below following the instructions given in the course\n"
      ]
    },
    {
      "cell_type": "markdown",
      "source": [
        "# Data Science Tools and Ecosystem"
      ],
      "metadata": {
        "id": "T7UaMeexb_Bt"
      }
    },
    {
      "cell_type": "markdown",
      "source": [
        " En este cuaderno, se resumen las herramientas y ecosistemas de ciencia de datos."
      ],
      "metadata": {
        "id": "79I3YbEOcRfL"
      }
    },
    {
      "cell_type": "markdown",
      "source": [
        "**Objetivos:**\n",
        "\n",
        "- Los lenguajes populares que utilizan los científicos de datos.  \n",
        "- Bibliotecas comunes utilizadas por científicos de datos.  \n",
        "- Explicar herramientas clave del ecosistema de Ciencia de Datos.  \n",
        "- Ejemplos de expresiones aritméticas en Python.  \n",
        "- Convertir unidades simples como minutos a horas.  "
      ],
      "metadata": {
        "id": "FC9X2DG7cP4e"
      }
    },
    {
      "cell_type": "markdown",
      "source": [
        "Algunos de los lenguajes populares que utilizan los científicos de datos son:\n",
        "\n",
        "1. Python\n",
        "2. R\n",
        "3. SQL\n",
        "4. Julia\n"
      ],
      "metadata": {
        "id": "xpdBtJ7tcboj"
      }
    },
    {
      "cell_type": "markdown",
      "source": [
        "Algunas de las bibliotecas comúnmente utilizadas por los científicos de datos incluyen:\n",
        "\n",
        "1. NumPy\n",
        "2. Pandas\n",
        "3. Matplotlib\n",
        "4. Scikit-learn\n",
        "5. TensorFlow"
      ],
      "metadata": {
        "id": "cZCjM1y_cl39"
      }
    },
    {
      "cell_type": "markdown",
      "source": [
        "| Herramientas de Ciencia de Datos   |\n",
        "|------------------------------------|\n",
        "| Jupyter Notebook                   |\n",
        "| RStudio                            |\n",
        "| Apache Spark                       |"
      ],
      "metadata": {
        "id": "nNhqCe5IcplI"
      }
    },
    {
      "cell_type": "markdown",
      "source": [
        "### A continuación se presentan algunos ejemplos de evaluación de expresiones aritméticas en Python\n",
        "\n",
        "- `2 + 3` suma dos números, y el resultado es **5**.  \n",
        "- `10 - 4` resta dos números, y el resultado es **6**.  \n",
        "- `6 * 7` multiplica dos números, y el resultado es **42**.  \n",
        "- `8 / 2` divide dos números, y el resultado es **4.0**.  \n",
        "- `2 ** 3` eleva un número al exponente, y el resultado es **8**.  \n",
        "\n"
      ],
      "metadata": {
        "id": "kDZPmQtxct3C"
      }
    },
    {
      "cell_type": "code",
      "source": [
        "# Esta es una expresión aritmética simple para multiplicar y luego sumar enteros\n",
        "(3 * 4) + 5"
      ],
      "metadata": {
        "colab": {
          "base_uri": "https://localhost:8080/"
        },
        "id": "MAhSOB6pdRo_",
        "outputId": "033e9094-0403-4941-816a-1d869605d77e"
      },
      "execution_count": 1,
      "outputs": [
        {
          "output_type": "execute_result",
          "data": {
            "text/plain": [
              "17"
            ]
          },
          "metadata": {},
          "execution_count": 1
        }
      ]
    },
    {
      "cell_type": "code",
      "source": [
        "# Esto convertirá 200 minutos a horas dividiendo por 60\n",
        "200 / 60"
      ],
      "metadata": {
        "colab": {
          "base_uri": "https://localhost:8080/"
        },
        "id": "qCw5oQ2RdS7d",
        "outputId": "59a6abde-9893-417f-9848-1abc760414c4"
      },
      "execution_count": 2,
      "outputs": [
        {
          "output_type": "execute_result",
          "data": {
            "text/plain": [
              "3.3333333333333335"
            ]
          },
          "metadata": {},
          "execution_count": 2
        }
      ]
    },
    {
      "cell_type": "markdown",
      "metadata": {
        "id": "b5f467ed-efe7-45ac-a08b-b2d48c26ba81"
      },
      "source": [
        "Copyright ©2024 IBM Corporation. All rights reserved.\n"
      ]
    }
  ],
  "metadata": {
    "kernelspec": {
      "display_name": "Python",
      "language": "python",
      "name": "conda-env-python-py"
    },
    "language_info": {
      "name": "python",
      "version": "3.7.12",
      "mimetype": "text/x-python",
      "codemirror_mode": {
        "name": "ipython",
        "version": 3
      },
      "pygments_lexer": "ipython3",
      "nbconvert_exporter": "python",
      "file_extension": ".py"
    },
    "prev_pub_hash": "9e1985db9844176462bd1d5863048c9f3d17404bbc6a648be9084b0c42b29347",
    "colab": {
      "provenance": []
    }
  },
  "nbformat": 4,
  "nbformat_minor": 0
}